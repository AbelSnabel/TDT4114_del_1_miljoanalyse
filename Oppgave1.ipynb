{
 "cells": [
  {
   "cell_type": "code",
   "execution_count": null,
   "metadata": {},
   "outputs": [
    {
     "name": "stdout",
     "output_type": "stream",
     "text": [
      "6, Karl Jonssons veg, Sunnland, Søndre Sunnland, Lerkendal, Trondheim, Trøndelag, 7037, Norge\n",
      "63.4028104 10.4101587\n"
     ]
    },
    {
     "ename": "AttributeError",
     "evalue": "'dict' object has no attribute 'enumerate'",
     "output_type": "error",
     "traceback": [
      "\u001b[1;31m---------------------------------------------------------------------------\u001b[0m",
      "\u001b[1;31mAttributeError\u001b[0m                            Traceback (most recent call last)",
      "Cell \u001b[1;32mIn[23], line 29\u001b[0m\n\u001b[0;32m     26\u001b[0m indeks \u001b[38;5;241m=\u001b[39m data[\u001b[38;5;124m\"\u001b[39m\u001b[38;5;124mproperties\u001b[39m\u001b[38;5;124m\"\u001b[39m][\u001b[38;5;124m\"\u001b[39m\u001b[38;5;124mparameter\u001b[39m\u001b[38;5;124m\"\u001b[39m][\u001b[38;5;124m\"\u001b[39m\u001b[38;5;124mALLSKY_SFC_SW_DWN\u001b[39m\u001b[38;5;124m\"\u001b[39m]\n\u001b[0;32m     28\u001b[0m dataframe \u001b[38;5;241m=\u001b[39m pd\u001b[38;5;241m.\u001b[39mDataFrame(indeks\u001b[38;5;241m.\u001b[39mvalues(),indeks)\n\u001b[1;32m---> 29\u001b[0m \u001b[38;5;28mprint\u001b[39m(\u001b[43mindeks\u001b[49m\u001b[38;5;241;43m.\u001b[39;49m\u001b[43menumerate\u001b[49m())\n\u001b[0;32m     30\u001b[0m \u001b[38;5;66;03m#plotter dataene ofc\u001b[39;00m\n\u001b[0;32m     31\u001b[0m plt\u001b[38;5;241m.\u001b[39mplot(dataframe)\n",
      "\u001b[1;31mAttributeError\u001b[0m: 'dict' object has no attribute 'enumerate'"
     ]
    }
   ],
   "source": [
    "import requests\n",
    "import matplotlib.pyplot as plt\n",
    "import numpy as np\n",
    "import pandas as pd\n",
    "\n",
    "from geopy.geocoders import Nominatim\n",
    "\n",
    "geolocator = Nominatim(user_agent=\"miljøanalyse_abel\")\n",
    "\n",
    "location = geolocator.geocode(input(\"location: \"))\n",
    "print(location.address)\n",
    "print(location.latitude, location.longitude)\n",
    "\n",
    "starttid = \"20050308\" #YYYYMMDD\n",
    "sluttid = \"20050310\" #YYYYMMDD\n",
    "lat = location.latitude\n",
    "lon = location.longitude\n",
    "type = \"hourly\" #daily, hourly, monthly\n",
    "\n",
    "#bruker nasa api for solstråling-data fordi det er kult, nordlys? \n",
    "url = f\"https://power.larc.nasa.gov/api/temporal/{type}/point?parameters=ALLSKY_SFC_SW_DWN&community=SB&longitude={lon}&latitude={lat}&start={starttid}&end={sluttid}&format=JSON\"\n",
    "\n",
    "#putter data fra url-en inn i en dict\n",
    "response = requests.get(url)\n",
    "data = response.json()\n",
    "indeks = data[\"properties\"][\"parameter\"][\"ALLSKY_SFC_SW_DWN\"]\n",
    "\n",
    "dataframe = pd.DataFrame(indeks.values(),indeks)\n",
    "#plotter dataene ofc\n",
    "plt.plot(dataframe)\n",
    "plt.show()"
   ]
  },
  {
   "cell_type": "markdown",
   "metadata": {},
   "source": [
    "Vi bruker nasa sin API for blant annet solstråling. Nasa ser jeg i stor grad på som en pålitelig kilde. men, i nyere tid(etter 2024-valget) har regjeringen i usa slått ned på klimaforskning, noe som ødelegger troverdigheten litt. Vi stoler uansett på api-en, siden den ble laget før valget, og har i stor grad historiske data. \n",
    "Nasa-apien gir ut data i json-format. "
   ]
  },
  {
   "cell_type": "code",
   "execution_count": null,
   "metadata": {},
   "outputs": [],
   "source": []
  }
 ],
 "metadata": {
  "kernelspec": {
   "display_name": "Python 3",
   "language": "python",
   "name": "python3"
  },
  "language_info": {
   "codemirror_mode": {
    "name": "ipython",
    "version": 3
   },
   "file_extension": ".py",
   "mimetype": "text/x-python",
   "name": "python",
   "nbconvert_exporter": "python",
   "pygments_lexer": "ipython3",
   "version": "3.13.1"
  }
 },
 "nbformat": 4,
 "nbformat_minor": 2
}
