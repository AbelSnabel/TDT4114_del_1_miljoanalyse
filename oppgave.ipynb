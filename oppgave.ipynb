{
 "cells": [
  {
   "cell_type": "code",
   "execution_count": null,
   "metadata": {},
   "outputs": [
    {
     "name": "stdout",
     "output_type": "stream",
     "text": [
      "Lokasjon ikke funnet. Prøv igjen.\n"
     ]
    },
    {
     "ename": "KeyboardInterrupt",
     "evalue": "Interrupted by user",
     "output_type": "error",
     "traceback": [
      "\u001b[31m---------------------------------------------------------------------------\u001b[39m",
      "\u001b[31mKeyboardInterrupt\u001b[39m                         Traceback (most recent call last)",
      "\u001b[36mCell\u001b[39m\u001b[36m \u001b[39m\u001b[32mIn[59]\u001b[39m\u001b[32m, line 15\u001b[39m\n\u001b[32m     11\u001b[39m lokasjonsliste = []\n\u001b[32m     13\u001b[39m \u001b[38;5;28;01mwhile\u001b[39;00m \u001b[38;5;28;01mTrue\u001b[39;00m:\n\u001b[32m     14\u001b[39m     \u001b[38;5;66;03m# Brukerinput for lokasjon\u001b[39;00m\n\u001b[32m---> \u001b[39m\u001b[32m15\u001b[39m     location_name = \u001b[38;5;28;43minput\u001b[39;49m\u001b[43m(\u001b[49m\u001b[33;43m\"\u001b[39;49m\u001b[33;43mlocation (eller skriv \u001b[39;49m\u001b[33;43m'\u001b[39;49m\u001b[33;43mexit\u001b[39;49m\u001b[33;43m'\u001b[39;49m\u001b[33;43m for å avslutte): \u001b[39;49m\u001b[33;43m\"\u001b[39;49m\u001b[43m)\u001b[49m.strip()\n\u001b[32m     16\u001b[39m     \u001b[38;5;28;01mif\u001b[39;00m location_name.lower() == \u001b[33m\"\u001b[39m\u001b[33mexit\u001b[39m\u001b[33m\"\u001b[39m:\n\u001b[32m     17\u001b[39m         \u001b[38;5;28;01mbreak\u001b[39;00m\n",
      "\u001b[36mFile \u001b[39m\u001b[32mc:\\Users\\simen\\Documents\\tdt4114\\TDT4114_del_1_miljoanalyse-2\\venv\\Lib\\site-packages\\ipykernel\\kernelbase.py:1282\u001b[39m, in \u001b[36mKernel.raw_input\u001b[39m\u001b[34m(self, prompt)\u001b[39m\n\u001b[32m   1280\u001b[39m     msg = \u001b[33m\"\u001b[39m\u001b[33mraw_input was called, but this frontend does not support input requests.\u001b[39m\u001b[33m\"\u001b[39m\n\u001b[32m   1281\u001b[39m     \u001b[38;5;28;01mraise\u001b[39;00m StdinNotImplementedError(msg)\n\u001b[32m-> \u001b[39m\u001b[32m1282\u001b[39m \u001b[38;5;28;01mreturn\u001b[39;00m \u001b[38;5;28;43mself\u001b[39;49m\u001b[43m.\u001b[49m\u001b[43m_input_request\u001b[49m\u001b[43m(\u001b[49m\n\u001b[32m   1283\u001b[39m \u001b[43m    \u001b[49m\u001b[38;5;28;43mstr\u001b[39;49m\u001b[43m(\u001b[49m\u001b[43mprompt\u001b[49m\u001b[43m)\u001b[49m\u001b[43m,\u001b[49m\n\u001b[32m   1284\u001b[39m \u001b[43m    \u001b[49m\u001b[38;5;28;43mself\u001b[39;49m\u001b[43m.\u001b[49m\u001b[43m_parent_ident\u001b[49m\u001b[43m[\u001b[49m\u001b[33;43m\"\u001b[39;49m\u001b[33;43mshell\u001b[39;49m\u001b[33;43m\"\u001b[39;49m\u001b[43m]\u001b[49m\u001b[43m,\u001b[49m\n\u001b[32m   1285\u001b[39m \u001b[43m    \u001b[49m\u001b[38;5;28;43mself\u001b[39;49m\u001b[43m.\u001b[49m\u001b[43mget_parent\u001b[49m\u001b[43m(\u001b[49m\u001b[33;43m\"\u001b[39;49m\u001b[33;43mshell\u001b[39;49m\u001b[33;43m\"\u001b[39;49m\u001b[43m)\u001b[49m\u001b[43m,\u001b[49m\n\u001b[32m   1286\u001b[39m \u001b[43m    \u001b[49m\u001b[43mpassword\u001b[49m\u001b[43m=\u001b[49m\u001b[38;5;28;43;01mFalse\u001b[39;49;00m\u001b[43m,\u001b[49m\n\u001b[32m   1287\u001b[39m \u001b[43m\u001b[49m\u001b[43m)\u001b[49m\n",
      "\u001b[36mFile \u001b[39m\u001b[32mc:\\Users\\simen\\Documents\\tdt4114\\TDT4114_del_1_miljoanalyse-2\\venv\\Lib\\site-packages\\ipykernel\\kernelbase.py:1325\u001b[39m, in \u001b[36mKernel._input_request\u001b[39m\u001b[34m(self, prompt, ident, parent, password)\u001b[39m\n\u001b[32m   1322\u001b[39m \u001b[38;5;28;01mexcept\u001b[39;00m \u001b[38;5;167;01mKeyboardInterrupt\u001b[39;00m:\n\u001b[32m   1323\u001b[39m     \u001b[38;5;66;03m# re-raise KeyboardInterrupt, to truncate traceback\u001b[39;00m\n\u001b[32m   1324\u001b[39m     msg = \u001b[33m\"\u001b[39m\u001b[33mInterrupted by user\u001b[39m\u001b[33m\"\u001b[39m\n\u001b[32m-> \u001b[39m\u001b[32m1325\u001b[39m     \u001b[38;5;28;01mraise\u001b[39;00m \u001b[38;5;167;01mKeyboardInterrupt\u001b[39;00m(msg) \u001b[38;5;28;01mfrom\u001b[39;00m\u001b[38;5;250m \u001b[39m\u001b[38;5;28;01mNone\u001b[39;00m\n\u001b[32m   1326\u001b[39m \u001b[38;5;28;01mexcept\u001b[39;00m \u001b[38;5;167;01mException\u001b[39;00m:\n\u001b[32m   1327\u001b[39m     \u001b[38;5;28mself\u001b[39m.log.warning(\u001b[33m\"\u001b[39m\u001b[33mInvalid Message:\u001b[39m\u001b[33m\"\u001b[39m, exc_info=\u001b[38;5;28;01mTrue\u001b[39;00m)\n",
      "\u001b[31mKeyboardInterrupt\u001b[39m: Interrupted by user"
     ]
    }
   ],
   "source": [
    "import requests\n",
    "import matplotlib.pyplot as plt\n",
    "import pandas as pd\n",
    "import os\n",
    "from geopy.geocoders import Nominatim\n",
    "\n",
    "#bruker et bibliotek for å finne koordinater basert på input, for å slippe at brukeren må skrive inn koordinater\n",
    "geolocator = Nominatim(user_agent=\"miljøanalyse_abel\")\n",
    "location = geolocator.geocode(input(\"location: \"))\n",
    "print(location.address)\n",
    "print((location.latitude, location.longitude))\n",
    "\n",
    "# Tidsperiode og API-parametere\n",
    "starttid = \"20050101\"  # YYYYMMDD\n",
    "sluttid = \"20060101\"  # YYYYMMDD\n",
    "type = \"daily\"\n",
    "lon_min, lon_max = location.longitude-1.01, location.longitude+1.01\n",
    "lat_min, lat_max = location.latitude-1.01, location.latitude+1.01\n",
    "\n",
    "# CSV-fil for samlet data\n",
    "csv_fil = \"lokasjonsdata.csv\"\n",
    "\n",
    "# Sjekk om byen allerede finnes i CSV-filen\n",
    "if os.path.exists(csv_fil):\n",
    "    df_tidligere = pd.read_csv(csv_fil, index_col=0, sep=\"\\t\", parse_dates=True)\n",
    "    if location_name in df_tidligere.columns:\n",
    "        exit(f\"Data for {location_name} finnes allerede i filen. Ingen nye data er lagt til.\")\n",
    "\n",
    "# API-forespørsel\n",
    "url = f\"https://power.larc.nasa.gov/api/temporal/{type}/regional?parameters=ALLSKY_SFC_SW_DWN&community=SB&longitude-min={lon_min}&longitude-max={lon_max}&latitude-min={lat_min}&latitude-max={lat_max}&start={starttid}&end={sluttid}&format=JSON\"\n",
    "\n",
    "response = requests.get(url)\n",
    "if response.status_code == 422:\n",
    "    exit(\"Ugyldig forespørsel.\")\n",
    "elif response.status_code == 429:\n",
    "    exit(\"For mange forespørsler. Prøv igjen senere.\")\n",
    "elif response.status_code != 200:\n",
    "    exit(f\"Feil ved forespørsel: {response.status_code}\")\n",
    "\n",
    "# Hente ut data fra responsen\n",
    "data = response.json()[\"features\"][0][\"properties\"][\"parameter\"][\"ALLSKY_SFC_SW_DWN\"]\n",
    "\n",
    "# Konverter data til en DataFrame\n",
    "unique_location_name = location_name  # Bruk kun bynavnet som kolonnenavn\n",
    "df = pd.DataFrame(list(data.values()), index=pd.to_datetime(list(data.keys())), columns=[unique_location_name])\n",
    "\n",
    "# Lagre eller oppdatere CSV-fil\n",
    "if os.path.exists(csv_fil):\n",
    "    # Kombinerer eksisterende data med ny data\n",
    "    df_sammensatt = pd.concat([df_tidligere, df], axis=1)\n",
    "else:\n",
    "    # Ingen tidligere data, bruk kun ny data\n",
    "    df_sammensatt = df\n",
    "\n",
    "# Lagre oppdatert DataFrame til CSV\n",
    "df_sammensatt.to_csv(csv_fil, sep=\"\\t\", encoding=\"utf-8\")\n",
    "print(f\"Data lagret i {csv_fil}\")\n",
    "\n",
    "# Plot sammenligning av data\n",
    "df_sammensatt.columns = [col.split(\"_\")[0] for col in df_sammensatt.columns]  # Fjern tidsperioden fra kolonnenavn\n",
    "df_sammensatt.plot(figsize=(10, 5))\n",
    "plt.xlabel(\"Dag\")\n",
    "plt.ylabel(\"Solinnstråling (W/m^2)\")\n",
    "plt.title(\"Sammenligning av solinnstråling over tid\")\n",
    "plt.legend(df_sammensatt.columns)\n",
    "plt.show()"
   ]
  },
  {
   "cell_type": "code",
   "execution_count": 19,
   "metadata": {},
   "outputs": [
    {
     "name": "stdout",
     "output_type": "stream",
     "text": [
      "Gjennomsnitt: 111.454\n",
      "Standardavvik: 95.107\n",
      "Median: 89.745\n"
     ]
    }
   ],
   "source": [
    "import numpy as np\n",
    "\n",
    "def average(data):\n",
    "    return np.mean(data)\n",
    "\n",
    "def std_dev(data):\n",
    "    return np.std(data)\n",
    "\n",
    "def median(data):\n",
    "    return np.median(data)\n",
    "\n",
    "print(f\"Gjennomsnitt: {average(df[0]):.3f}\")\n",
    "print(f\"Standardavvik: {std_dev(df[0]):.3f}\")\n",
    "print(f\"Median: {median(df[0]):.3f}\")"
   ]
  },
  {
   "cell_type": "code",
   "execution_count": null,
   "metadata": {},
   "outputs": [],
   "source": []
  }
 ],
 "metadata": {
  "kernelspec": {
   "display_name": "venv",
   "language": "python",
   "name": "python3"
  },
  "language_info": {
   "codemirror_mode": {
    "name": "ipython",
    "version": 3
   },
   "file_extension": ".py",
   "mimetype": "text/x-python",
   "name": "python",
   "nbconvert_exporter": "python",
   "pygments_lexer": "ipython3",
   "version": "3.13.2"
  }
 },
 "nbformat": 4,
 "nbformat_minor": 2
}
