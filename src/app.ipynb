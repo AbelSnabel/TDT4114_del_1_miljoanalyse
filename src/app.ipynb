{
 "cells": [
  {
   "cell_type": "code",
   "execution_count": 2,
   "id": "5e8ad6b2",
   "metadata": {},
   "outputs": [],
   "source": [
    "#hiv-kode\n",
    "from dash import Dash, html, dcc, callback, Output, Input\n",
    "import pandas as pd\n",
    "import plotly.express as px\n",
    "from prophet.plot import plot_plotly, plot_components_plotly\n",
    "from datetime import datetime\n",
    "from prediktiv_analyse import prediktiv_analyse\n",
    "from statistikk import statistikk\n",
    "import dash_leaflet as dl\n",
    "import dash_leaflet.express as dlx\n",
    "\n",
    "df = pd.read_csv(r'../data/lokasjonsdata.csv').rename(columns={'Unnamed: 0': 'Date'})\n",
    "\n",
    "df['Date'] = pd.to_datetime(df['Date'])\n",
    "\n",
    "app = Dash()\n",
    "\n",
    "app.layout = html.Div(style={'fontFamily': 'Arial, sans-serif', 'padding': '20px'}, children=[\n",
    "    #overskrift\n",
    "    html.H1(\"Heftig interaktiv visualisering\", style={'textAlign': 'center', 'fontSize': '36px'}),\n",
    "    #diverse input\n",
    "    html.Div(style={'display': 'flex', 'flexWrap': 'wrap', 'gap': '20px', 'marginBottom': '30px'}, children=[\n",
    "        html.Div([\n",
    "            html.Label(\"start-dato for data:\", style={'fontSize': '18px'}),\n",
    "            dcc.DatePickerSingle(\n",
    "                id='Start_dato-velger',\n",
    "                date=datetime.today(),\n",
    "                style={'fontSize': '16px'})]),\n",
    "        html.Div([\n",
    "            html.Label(\"slutt-dato for data:\", style={'fontSize': '18px'}),\n",
    "            dcc.DatePickerSingle(\n",
    "                id='Slutt-dato-velger',\n",
    "                date=datetime.today(),\n",
    "                style={'fontSize': '16px'})]),        \n",
    "        html.Div([\n",
    "            html.Label(\"Plot-type:\", style={'fontSize': '18px'}),\n",
    "            dcc.Dropdown(\n",
    "                options=[\n",
    "                    {'label': 'Visualisering', 'value': 'visualisering'},\n",
    "                    {'label': 'Statistikk', 'value': 'statistikk'},\n",
    "                    {'label': 'Prediktiv Analyse', 'value': 'prediktiv_analyse'}\n",
    "                ],\n",
    "                value='visualisering',\n",
    "                id='Plot-velger',\n",
    "                style={'width': '220px', 'fontSize': '16px'})\n",
    "        ]),\n",
    "        html.Div([\n",
    "            html.Label(\"Velg By-data:\", style={'fontSize': '18px'}),\n",
    "            dcc.Dropdown(\n",
    "                options=[{'label': col, 'value': col} for col in df.columns[1:]],\n",
    "                value=df.columns[1] if len(df.columns) > 1 else None,\n",
    "                id='By-velger',\n",
    "                style={'width': '220px', 'fontSize': '16px'})\n",
    "        ]),\n",
    "        html.Div([\n",
    "            html.Label(\"Juster verdi:\", style={'fontSize': '18px'}),\n",
    "            dcc.Slider(\n",
    "                min=1, max=10, step=1, value=1,\n",
    "                id='slider',\n",
    "                marks={i: str(i) for i in range(1, 11)},\n",
    "                tooltip={\"placement\": \"bottom\", \"always_visible\": True},\n",
    "            )])]),\n",
    "    #kart og graf\n",
    "    html.Div(style={'display': 'flex', 'gap': '20px', 'marginBottom': '40px'}, children=[\n",
    "    html.Div([\n",
    "        html.H2(\"Koordinat-velger\", style={'textAlign': 'center', 'fontSize': '24px'}),\n",
    "        dl.Map(center=[63.4305, 10.3951], zoom=10, children=[\n",
    "        dl.TileLayer(),\n",
    "        ],\n",
    "        id=\"map\", style={'width': '100%', 'height': '500px'}),\n",
    "        html.Div(id=\"click-coordinates\", style={'fontSize': '16px', 'textAlign': 'center', 'marginTop': '10px'})\n",
    "    ], style={'flex': '1'}),  \n",
    "    html.Div([\n",
    "        html.H2(\"Data-visualisering\", style={'textAlign': 'center', 'fontSize': '24px'}),\n",
    "        dcc.Graph(id='graph-content', style={'height': '500px'})\n",
    "    ], style={'flex': '1'})\n",
    "\n",
    "])\n",
    "\n",
    "])\n",
    "\n",
    "@callback(\n",
    "    Output('graph-content', 'figure'),\n",
    "    Output('click-coordinates', 'children'),\n",
    "    Input('Plot-velger', 'value'),\n",
    "    Input('By-velger', 'value'),\n",
    "    Input('slider', 'value'),\n",
    "    Input(\"map\", \"click_lat_lng\"),  # Use click_lat_lng to get coordinates\n",
    ")\n",
    "def update_graph(plot, by, slider, click_lat_lng):\n",
    "    fig = {}\n",
    "    if plot == 'visualisering':\n",
    "        fig = px.line(df, x='Date', y=by)\n",
    "    elif plot == 'statistikk':\n",
    "        fig = statistikk(by, df)\n",
    "    elif plot == 'prediktiv_analyse':\n",
    "        modell, forecast = prediktiv_analyse(slider, by, df[['Date', by]])\n",
    "        fig = plot_plotly(modell, forecast)\n",
    "    \n",
    "    if click_lat_lng:  # Check if coordinates are available\n",
    "        lat, lon = click_lat_lng\n",
    "        coords_text = f\"Klikket på Latitude: {lat:.4f}, Longitude: {lon:.4f}\"\n",
    "    else:\n",
    "        coords_text = \"Klikk på kartet for koordinater.\"\n",
    "\n",
    "    return fig, coords_text"
   ]
  },
  {
   "cell_type": "code",
   "execution_count": 50,
   "id": "94e3cac7",
   "metadata": {},
   "outputs": [
    {
     "name": "stdout",
     "output_type": "stream",
     "text": [
      "Dash app running on http://127.0.0.1:8050/\n"
     ]
    }
   ],
   "source": [
    "#kjør denne for å kjøre appen i browseren\n",
    "app.run(jupyter_mode=\"external\",port=8050)"
   ]
  },
  {
   "cell_type": "code",
   "execution_count": 3,
   "id": "7256c1ce",
   "metadata": {},
   "outputs": [
    {
     "data": {
      "text/html": [
       "\n",
       "        <iframe\n",
       "            width=\"100%\"\n",
       "            height=\"650\"\n",
       "            src=\"http://127.0.0.1:8050/\"\n",
       "            frameborder=\"0\"\n",
       "            allowfullscreen\n",
       "            \n",
       "        ></iframe>\n",
       "        "
      ],
      "text/plain": [
       "<IPython.lib.display.IFrame at 0x1af158b6cf0>"
      ]
     },
     "metadata": {},
     "output_type": "display_data"
    }
   ],
   "source": [
    "#kjør denne for å kjøre appen i jupyter\n",
    "app.run(jupyter_mode=\"inline\",port=8050)"
   ]
  },
  {
   "cell_type": "code",
   "execution_count": null,
   "id": "1db3051a",
   "metadata": {},
   "outputs": [],
   "source": []
  }
 ],
 "metadata": {
  "kernelspec": {
   "display_name": "Python 3",
   "language": "python",
   "name": "python3"
  },
  "language_info": {
   "codemirror_mode": {
    "name": "ipython",
    "version": 3
   },
   "file_extension": ".py",
   "mimetype": "text/x-python",
   "name": "python",
   "nbconvert_exporter": "python",
   "pygments_lexer": "ipython3",
   "version": "3.13.1"
  }
 },
 "nbformat": 4,
 "nbformat_minor": 5
}
