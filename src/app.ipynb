{
 "cells": [
  {
   "cell_type": "code",
   "execution_count": 5,
   "id": "5e8ad6b2",
   "metadata": {},
   "outputs": [],
   "source": [
    "#legit bare meg som leker meg med dash bro, wtf\n",
    "from dash import Dash, html, dcc, callback, Output, Input\n",
    "import pandas as pd\n",
    "import plotly.express as px\n",
    "from prophet.plot import plot_plotly, plot_components_plotly\n",
    "from datetime import datetime\n",
    "from prediktiv_analyse import prediktiv_analyse\n",
    "from statistikk import statistikk\n",
    "df = pd.read_csv(r'../data/lokasjonsdata.csv').rename(columns={'Unnamed: 0': 'Date'})\n",
    "\n",
    "\n",
    "\n",
    "app = Dash()\n",
    "\n",
    "app.layout = html.Div([\n",
    "    html.H1(children='Heftig interaktiv visualisering', style={'textAlign': 'center'}),\n",
    "    dcc.DatePickerSingle(\n",
    "        id='Dato-velger',\n",
    "        date=datetime.today()),\n",
    "    dcc.Dropdown(\n",
    "        options=[\n",
    "                {'label': 'Visualisering', 'value': 'visualisering'},\n",
    "                {'label': 'Statistikk', 'value': 'statistikk'},\n",
    "                {'label': 'Prediktiv Analyse', 'value': 'prediktiv_analyse'}\n",
    "            ],\n",
    "        value='prediktiv_analyse',  # Default selection\n",
    "        id='Plot-velger'),\n",
    "    dcc.Dropdown(\n",
    "        options=[{'label': col, 'value': col} for col in df.columns[1:]],  # Columns 1–4\n",
    "        value=df.columns[1],  # Default selection\n",
    "        id='By-velger'),\n",
    "    dcc.Slider(1, 10, 1, value=1, id='slider'),\n",
    "    \n",
    "    dcc.Graph(id='graph-content'),\n",
    "    \n",
    "])\n",
    "\n",
    "@callback(\n",
    "    Output('graph-content', 'figure'),\n",
    "    Input('Plot-velger', 'value'),\n",
    "    Input('By-velger', 'value'),\n",
    "    Input('slider', 'value')\n",
    "    \n",
    ")\n",
    "def update_graph(plot, by, slider):\n",
    "    if plot == 'visualisering':\n",
    "        return px.line(df, x=df['Date'], y=df[by]) \n",
    "    elif plot == 'statistikk':\n",
    "        return statistikk(by,df)\n",
    "    elif plot == 'prediktiv_analyse':\n",
    "        modell, forecast = prediktiv_analyse(slider, by, df[['Date', by]])\n",
    "        return plot_plotly(modell, forecast)"
   ]
  },
  {
   "cell_type": "code",
   "execution_count": null,
   "id": "7256c1ce",
   "metadata": {},
   "outputs": [
    {
     "data": {
      "text/html": [
       "\n",
       "        <iframe\n",
       "            width=\"100%\"\n",
       "            height=\"650\"\n",
       "            src=\"http://127.0.0.1:8050/\"\n",
       "            frameborder=\"0\"\n",
       "            allowfullscreen\n",
       "            \n",
       "        ></iframe>\n",
       "        "
      ],
      "text/plain": [
       "<IPython.lib.display.IFrame at 0x1fe6dd68b90>"
      ]
     },
     "metadata": {},
     "output_type": "display_data"
    },
    {
     "name": "stderr",
     "output_type": "stream",
     "text": [
      "12:11:36 - cmdstanpy - INFO - Chain [1] start processing\n",
      "12:11:37 - cmdstanpy - INFO - Chain [1] done processing\n"
     ]
    }
   ],
   "source": [
    "#skal brukes for å fremstille alt? hvis jeg tar meg tid til å gjøre det\n",
    "app.run(jupyter_mode=\"inline\",port=8050)"
   ]
  }
 ],
 "metadata": {
  "kernelspec": {
   "display_name": "Python 3",
   "language": "python",
   "name": "python3"
  },
  "language_info": {
   "codemirror_mode": {
    "name": "ipython",
    "version": 3
   },
   "file_extension": ".py",
   "mimetype": "text/x-python",
   "name": "python",
   "nbconvert_exporter": "python",
   "pygments_lexer": "ipython3",
   "version": "3.13.1"
  }
 },
 "nbformat": 4,
 "nbformat_minor": 5
}
