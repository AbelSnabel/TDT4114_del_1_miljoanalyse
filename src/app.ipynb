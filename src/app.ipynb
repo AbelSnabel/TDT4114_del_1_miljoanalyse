{
 "cells": [
  {
   "cell_type": "code",
   "execution_count": 25,
   "id": "5e8ad6b2",
   "metadata": {},
   "outputs": [],
   "source": [
    "from dash import Dash, html, dcc, callback, Output, Input\n",
    "import pandas as pd\n",
    "import plotly.express as px\n",
    "\n",
    "\n",
    "df = pd.read_csv(r'../data/lokasjonsdata.csv')\n",
    "\n",
    "app = Dash()\n",
    "\n",
    "app.layout = html.Div([\n",
    "    html.H1(children='Title of Dash App', style={'textAlign': 'center'}),\n",
    "    dcc.Dropdown(\n",
    "        options=[{'label': col, 'value': col} for col in df.columns[1:]],  # Columns 1–4\n",
    "        value=df.columns[1],  # Default selection\n",
    "        id='dropdown-selection'\n",
    "    ),\n",
    "    dcc.Graph(id='graph-content')\n",
    "])\n",
    "\n",
    "@callback(\n",
    "    Output('graph-content', 'figure'),\n",
    "    Input('dropdown-selection', 'value')\n",
    ")\n",
    "def update_graph(selected_column):\n",
    "    # Use the first column as x-axis (dates) and the selected column as y-axis\n",
    "    return px.line(df, x=df.columns[0], y=selected_column, title=f\"{selected_column} Over Time\")\n"
   ]
  },
  {
   "cell_type": "code",
   "execution_count": null,
   "id": "7256c1ce",
   "metadata": {},
   "outputs": [
    {
     "ename": "NameError",
     "evalue": "name 'app' is not defined",
     "output_type": "error",
     "traceback": [
      "\u001b[1;31m---------------------------------------------------------------------------\u001b[0m",
      "\u001b[1;31mNameError\u001b[0m                                 Traceback (most recent call last)",
      "Cell \u001b[1;32mIn[1], line 1\u001b[0m\n\u001b[1;32m----> 1\u001b[0m \u001b[43mapp\u001b[49m\u001b[38;5;241m.\u001b[39mrun(jupyter_mode\u001b[38;5;241m=\u001b[39m\u001b[38;5;124m\"\u001b[39m\u001b[38;5;124minline\u001b[39m\u001b[38;5;124m\"\u001b[39m,port\u001b[38;5;241m=\u001b[39m\u001b[38;5;241m8051\u001b[39m)\n",
      "\u001b[1;31mNameError\u001b[0m: name 'app' is not defined"
     ]
    }
   ],
   "source": [
    "#skal brukes for å fremstille alt? hvis jeg tar meg tid til å gjøre det\n",
    "app.run(jupyter_mode=\"inline\",port=8050)\n"
   ]
  }
 ],
 "metadata": {
  "kernelspec": {
   "display_name": "Python 3",
   "language": "python",
   "name": "python3"
  },
  "language_info": {
   "codemirror_mode": {
    "name": "ipython",
    "version": 3
   },
   "file_extension": ".py",
   "mimetype": "text/x-python",
   "name": "python",
   "nbconvert_exporter": "python",
   "pygments_lexer": "ipython3",
   "version": "3.13.1"
  }
 },
 "nbformat": 4,
 "nbformat_minor": 5
}
